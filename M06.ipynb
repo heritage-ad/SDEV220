{
 "cells": [
  {
   "cell_type": "markdown",
   "id": "f34ced54-c332-46c8-8dc9-e2813a127511",
   "metadata": {},
   "source": [
    "13.1"
   ]
  },
  {
   "cell_type": "code",
   "execution_count": 53,
   "id": "c1418009-36b3-44da-93a1-80ff55abc539",
   "metadata": {},
   "outputs": [],
   "source": [
    "from datetime import datetime\n",
    "current_date = datetime.now().strftime(\"%Y-%m-%d\")\n",
    "with open(\"today.txt\", \"w\") as file:\n",
    "    file.write(current_date)"
   ]
  },
  {
   "cell_type": "markdown",
   "id": "4bd054d7-039a-4706-a4fa-6791f79fd353",
   "metadata": {},
   "source": [
    "13.2"
   ]
  },
  {
   "cell_type": "code",
   "execution_count": 35,
   "id": "88dd01a6-269f-422c-8e3c-720bcd37853f",
   "metadata": {},
   "outputs": [],
   "source": [
    "with open(\"today.txt\", \"r\") as file:\n",
    "    today_string = file.read()"
   ]
  },
  {
   "cell_type": "markdown",
   "id": "9f50a558-deba-4d4c-bdca-837d84bf1e6f",
   "metadata": {},
   "source": [
    "13.3"
   ]
  },
  {
   "cell_type": "code",
   "execution_count": 37,
   "id": "53ab2121-e137-4681-926b-65b9565b69c3",
   "metadata": {},
   "outputs": [],
   "source": [
    "parsed_date = datetime.strptime(today_string, \"%Y-%m-%d\")"
   ]
  },
  {
   "cell_type": "markdown",
   "id": "16c8a9b6-b0d8-4918-9434-da9d488614b6",
   "metadata": {},
   "source": [
    "15.1"
   ]
  },
  {
   "cell_type": "code",
   "execution_count": null,
   "id": "789b35c0-9b26-45d8-9a68-7ab27d742f43",
   "metadata": {},
   "outputs": [],
   "source": [
    "import multiprocessing\n",
    "import time\n",
    "import random\n",
    "from datetime import datetime\n",
    "\n",
    "def process_function():\n",
    "    wait_time = random.uniform(0,1)\n",
    "    time.sleep(wait_time)\n",
    "    print(f\"Process {multiprocessing.current_process().name} - Time: {datetime.now()}\")\n",
    "\n",
    "processes = []\n",
    "\n",
    "for i in range(3):\n",
    "    process = multiprocessing.Process(target=process_function, name=f\"Process-{i+1}\")\n",
    "    processes.append(process)\n",
    "    process.start()\n",
    "    \n",
    "for process in processes:\n",
    "    process.join()\n",
    "\n",
    "print(\"All processes have completed.\")\n",
    "    "
   ]
  }
 ],
 "metadata": {
  "kernelspec": {
   "display_name": "Python 3 (ipykernel)",
   "language": "python",
   "name": "python3"
  },
  "language_info": {
   "codemirror_mode": {
    "name": "ipython",
    "version": 3
   },
   "file_extension": ".py",
   "mimetype": "text/x-python",
   "name": "python",
   "nbconvert_exporter": "python",
   "pygments_lexer": "ipython3",
   "version": "3.11.7"
  }
 },
 "nbformat": 4,
 "nbformat_minor": 5
}
