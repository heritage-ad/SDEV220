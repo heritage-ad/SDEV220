{
 "cells": [
  {
   "cell_type": "markdown",
   "id": "0b7b6a22-a0d2-4246-8dbc-96400408d7aa",
   "metadata": {},
   "source": [
    "test.py"
   ]
  },
  {
   "cell_type": "code",
   "execution_count": null,
   "id": "cf9960cd-b204-40ea-87de-5c3ea96965a3",
   "metadata": {},
   "outputs": [],
   "source": [
    "from fractions import Fraction\n",
    "import unittest\n",
    "\n",
    "from my_sum import sum\n",
    "\n",
    "\n",
    "class TestSum(unittest.TestCase):\n",
    "    def test_list_int(self):\n",
    "        \"\"\"\n",
    "        Test that it can sum a list of integers\n",
    "        \"\"\"\n",
    "        data = [1, 2, 3]\n",
    "        result = sum(data)\n",
    "        self.assertEqual(result, 6)\n",
    "\n",
    "    def test_list_fraction(self):\n",
    "        \"\"\"\"\n",
    "        Test that it can sum a list of fractions\n",
    "        \"\"\"\n",
    "        data = [Fraction(1,4), Fraction(1,4), Fraction(2,5)]\n",
    "        result = sum(data)\n",
    "        self.assertEqual(result, 1)\n",
    "\n",
    "     \n",
    "\n",
    "if __name__ == '__main__':\n",
    "    unittest.main()"
   ]
  },
  {
   "cell_type": "markdown",
   "id": "f158e5cd-21a9-4e30-82ac-7e341e7cf351",
   "metadata": {},
   "source": [
    "__init__.py"
   ]
  },
  {
   "cell_type": "code",
   "execution_count": null,
   "id": "9386b524-5f58-484b-a696-05769ac77ae4",
   "metadata": {},
   "outputs": [],
   "source": [
    "def sum(list):\n",
    "    total = 0\n",
    "    for item in list:\n",
    "        total += item\n",
    "    return total \n"
   ]
  },
  {
   "cell_type": "markdown",
   "id": "97119fde-fdb9-4ad4-a8d4-96023a0810d5",
   "metadata": {},
   "source": [
    "The test result after all the test has been ran shows that one of the test failed by showing (F) and one of the test passed by showing (.). The failed test gave a brief explanation as to why it failed, the reasons it failed and a traceback to the failing line, as well as the expected result and the actual result. It also shows how many test it ran in a specific amount of time. "
   ]
  },
  {
   "cell_type": "code",
   "execution_count": null,
   "id": "ddfb6c51-0fc5-4402-a8fb-060eb6c54d04",
   "metadata": {},
   "outputs": [],
   "source": []
  }
 ],
 "metadata": {
  "kernelspec": {
   "display_name": "Python 3 (ipykernel)",
   "language": "python",
   "name": "python3"
  },
  "language_info": {
   "codemirror_mode": {
    "name": "ipython",
    "version": 3
   },
   "file_extension": ".py",
   "mimetype": "text/x-python",
   "name": "python",
   "nbconvert_exporter": "python",
   "pygments_lexer": "ipython3",
   "version": "3.11.7"
  }
 },
 "nbformat": 4,
 "nbformat_minor": 5
}
